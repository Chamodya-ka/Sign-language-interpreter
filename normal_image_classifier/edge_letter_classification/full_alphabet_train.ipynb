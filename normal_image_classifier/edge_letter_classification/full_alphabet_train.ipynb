{
 "cells": [
  {
   "cell_type": "code",
   "execution_count": 8,
   "metadata": {},
   "outputs": [],
   "source": [
    "from keras.preprocessing import image_dataset_from_directory\n",
    "import os\n",
    "import numpy as np"
   ]
  },
  {
   "cell_type": "code",
   "execution_count": 9,
   "metadata": {},
   "outputs": [],
   "source": [
    "import cv2\n",
    "from tensorflow.keras.preprocessing.image import img_to_array,ImageDataGenerator\n",
    "from tensorflow.keras.utils import to_categorical, plot_model\n",
    "from keras.models import Sequential\n",
    "from keras.layers import Conv2D,MaxPooling2D \n",
    "from keras.layers import Dense, Dropout, Activation, Flatten ,BatchNormalization,GlobalMaxPool2D \n",
    "from keras.layers.experimental.preprocessing import Rescaling\n",
    "from keras.optimizers import Adam\n",
    "import glob,random\n",
    "from keras import backend as K\n",
    "import keras\n",
    "import tensorflow as tf"
   ]
  },
  {
   "cell_type": "code",
   "execution_count": 10,
   "metadata": {},
   "outputs": [],
   "source": [
    "train_dir = \"F:/WorkSpace/Data/ASL/new_ASL_dataset/egde\"\n",
    "test_dir = \"F:/WorkSpace/Data/ASL/new_ASL_dataset/test\""
   ]
  },
  {
   "cell_type": "code",
   "execution_count": 11,
   "metadata": {},
   "outputs": [
    {
     "name": "stdout",
     "output_type": "stream",
     "text": [
      "['B', 'C', 'D', 'E', 'F', 'G', 'H', 'I', 'J', 'K', 'L', 'M', 'N', 'O', 'P', 'Q', 'R', 'S', 'T', 'U', 'V', 'W', 'X', 'Y', 'Z', 'A']\n",
      "['A', 'B', 'C', 'D', 'E', 'F', 'G', 'H', 'I', 'J', 'K', 'L', 'M', 'N', 'O', 'P', 'Q', 'R', 'S', 'T', 'U', 'V', 'W', 'X', 'Y', 'Z']\n"
     ]
    }
   ],
   "source": [
    "trclasses , teclasses  =  os.listdir(train_dir), os.listdir(test_dir)\n",
    "print(str(trclasses)+\"\\n\"+str(teclasses))"
   ]
  },
  {
   "cell_type": "code",
   "execution_count": 12,
   "metadata": {},
   "outputs": [],
   "source": [
    "def preprocess(img):\n",
    "    scale = 2\n",
    "    delta = 0\n",
    "    ddepth = cv2.CV_16S\n",
    "    grad_x = cv2.Sobel(img, ddepth, 1, 0, ksize=3, scale=scale, delta=delta, borderType=cv2.BORDER_DEFAULT)\n",
    "    grad_y = cv2.Sobel(img, ddepth, 0, 1, ksize=3, scale=scale, delta=delta, borderType=cv2.BORDER_DEFAULT)\n",
    "    abs_grad_x = cv2.convertScaleAbs(grad_x)\n",
    "    abs_grad_y = cv2.convertScaleAbs(grad_y)\n",
    "    edges = cv2.addWeighted(abs_grad_x, 0.5, abs_grad_y, 0.5, 0)\n",
    "    out=np.expand_dims(edges,2).astype('float32')\n",
    "    return out"
   ]
  },
  {
   "cell_type": "code",
   "execution_count": 13,
   "metadata": {},
   "outputs": [],
   "source": [
    "count=0\n",
    "data=[]\n",
    "labels=[]"
   ]
  },
  {
   "cell_type": "code",
   "execution_count": 21,
   "metadata": {},
   "outputs": [],
   "source": [
    "aug = ImageDataGenerator(\n",
    "    width_shift_range=(0.1),\n",
    "    height_shift_range=(0.1),\n",
    "    zoom_range=(0.1),\n",
    "    rotation_range=8,\n",
    "    horizontal_flip=False,\n",
    "    rescale=1./255,\n",
    "    #preprocessing_function=preprocess\n",
    "    )\n",
    "test_datagen = ImageDataGenerator(rescale=1./255)#preprocessing_function=preprocess)"
   ]
  },
  {
   "cell_type": "code",
   "execution_count": 22,
   "metadata": {},
   "outputs": [
    {
     "name": "stdout",
     "output_type": "stream",
     "text": [
      "Found 165 images belonging to 26 classes.\n"
     ]
    }
   ],
   "source": [
    "val_data=test_datagen.flow_from_directory(\n",
    "    test_dir,\n",
    "    class_mode=\"categorical\",\n",
    "    classes=teclasses,\n",
    "    color_mode='grayscale',\n",
    "    batch_size=32,\n",
    "    target_size=(240, 240),\n",
    "    interpolation=\"bilinear\",\n",
    "    shuffle=True,\n",
    "    \n",
    ")"
   ]
  },
  {
   "cell_type": "code",
   "execution_count": 23,
   "metadata": {},
   "outputs": [
    {
     "name": "stdout",
     "output_type": "stream",
     "text": [
      "Found 3811 images belonging to 26 classes.\n"
     ]
    }
   ],
   "source": [
    "train_data=aug.flow_from_directory(\n",
    "    train_dir,\n",
    "    class_mode='categorical',\n",
    "    classes=teclasses,\n",
    "    color_mode='grayscale',\n",
    "    batch_size=32,\n",
    "    target_size=(240, 240),\n",
    "    interpolation=\"bilinear\"   , \n",
    "    shuffle=True\n",
    ")"
   ]
  },
  {
   "cell_type": "code",
   "execution_count": 24,
   "metadata": {},
   "outputs": [
    {
     "name": "stdout",
     "output_type": "stream",
     "text": [
      "(32, 240, 240, 1)\n",
      "(32, 26)\n"
     ]
    }
   ],
   "source": [
    "for image_batch, labels_batch in train_data:\n",
    "  print(image_batch.shape)\n",
    "  print(labels_batch.shape)\n",
    "  break"
   ]
  },
  {
   "cell_type": "code",
   "execution_count": 25,
   "metadata": {},
   "outputs": [
    {
     "name": "stdout",
     "output_type": "stream",
     "text": [
      "Model: \"sequential_1\"\n",
      "_________________________________________________________________\n",
      "Layer (type)                 Output Shape              Param #   \n",
      "=================================================================\n",
      "conv2d_5 (Conv2D)            (None, 238, 238, 64)      640       \n",
      "_________________________________________________________________\n",
      "max_pooling2d_5 (MaxPooling2 (None, 119, 119, 64)      0         \n",
      "_________________________________________________________________\n",
      "conv2d_6 (Conv2D)            (None, 117, 117, 64)      36928     \n",
      "_________________________________________________________________\n",
      "max_pooling2d_6 (MaxPooling2 (None, 58, 58, 64)        0         \n",
      "_________________________________________________________________\n",
      "conv2d_7 (Conv2D)            (None, 56, 56, 128)       73856     \n",
      "_________________________________________________________________\n",
      "max_pooling2d_7 (MaxPooling2 (None, 28, 28, 128)       0         \n",
      "_________________________________________________________________\n",
      "conv2d_8 (Conv2D)            (None, 26, 26, 128)       147584    \n",
      "_________________________________________________________________\n",
      "max_pooling2d_8 (MaxPooling2 (None, 13, 13, 128)       0         \n",
      "_________________________________________________________________\n",
      "conv2d_9 (Conv2D)            (None, 11, 11, 256)       295168    \n",
      "_________________________________________________________________\n",
      "max_pooling2d_9 (MaxPooling2 (None, 5, 5, 256)         0         \n",
      "_________________________________________________________________\n",
      "dropout_2 (Dropout)          (None, 5, 5, 256)         0         \n",
      "_________________________________________________________________\n",
      "flatten_1 (Flatten)          (None, 6400)              0         \n",
      "_________________________________________________________________\n",
      "dense_2 (Dense)              (None, 512)               3277312   \n",
      "_________________________________________________________________\n",
      "batch_normalization_1 (Batch (None, 512)               2048      \n",
      "_________________________________________________________________\n",
      "dropout_3 (Dropout)          (None, 512)               0         \n",
      "_________________________________________________________________\n",
      "dense_3 (Dense)              (None, 26)                13338     \n",
      "=================================================================\n",
      "Total params: 3,846,874\n",
      "Trainable params: 3,845,850\n",
      "Non-trainable params: 1,024\n",
      "_________________________________________________________________\n"
     ]
    }
   ],
   "source": [
    "model=Sequential()\n",
    "\n",
    "model.add(Conv2D(64, (3,3), input_shape = (240, 240, 1), activation = 'relu'))\n",
    "model.add(MaxPooling2D(2,2))\n",
    "\n",
    "model.add(Conv2D(64, (3,3), activation = 'relu'))\n",
    "model.add(MaxPooling2D(2,2))\n",
    "\n",
    "model.add(Conv2D(128, (3,3), activation = 'relu'))\n",
    "model.add(MaxPooling2D(2,2))\n",
    "\n",
    "model.add(Conv2D(128, (3,3), activation = 'relu'))\n",
    "model.add(MaxPooling2D(2,2))\n",
    "\n",
    "\n",
    "model.add(Conv2D(256, (3,3), activation = 'relu'))\n",
    "model.add(MaxPooling2D(2,2))\n",
    "model.add(Dropout(0.5))\n",
    "\n",
    "model.add(Flatten())\n",
    "model.add(Dense(512, activation = 'relu'))\n",
    "model.add(BatchNormalization())\n",
    "model.add(Dropout(0.5))\n",
    "model.add(Dense(26, activation = 'softmax'))\n",
    "\n",
    "\n",
    "model.summary()"
   ]
  },
  {
   "cell_type": "code",
   "execution_count": 26,
   "metadata": {},
   "outputs": [],
   "source": [
    "opt = keras.optimizers.Adam(learning_rate=1e-2)\n",
    "\n",
    "model.compile(loss = 'categorical_crossentropy', optimizer = 'rmsprop', metrics = ['accuracy'])"
   ]
  },
  {
   "cell_type": "code",
   "execution_count": 30,
   "metadata": {},
   "outputs": [
    {
     "name": "stdout",
     "output_type": "stream",
     "text": [
      "Epoch 1/50\n",
      "  2/120 [..............................] - ETA: 18s - loss: 0.3404 - accuracy: 0.9062WARNING:tensorflow:Callbacks method `on_train_batch_end` is slow compared to the batch time (batch time: 0.0650s vs `on_train_batch_end` time: 0.1200s). Check your callbacks.\n",
      "120/120 [==============================] - 28s 235ms/step - loss: 0.4127 - accuracy: 0.8719 - val_loss: 9.0769 - val_accuracy: 0.0606\n",
      "Epoch 2/50\n",
      "120/120 [==============================] - 28s 232ms/step - loss: 0.3587 - accuracy: 0.8824 - val_loss: 7.6264 - val_accuracy: 0.0364\n",
      "Epoch 3/50\n",
      "120/120 [==============================] - 28s 234ms/step - loss: 0.3653 - accuracy: 0.8767 - val_loss: 8.9305 - val_accuracy: 0.0424\n",
      "Epoch 4/50\n",
      "120/120 [==============================] - 28s 234ms/step - loss: 0.3689 - accuracy: 0.8827 - val_loss: 6.6467 - val_accuracy: 0.0667\n",
      "Epoch 5/50\n",
      "120/120 [==============================] - 28s 233ms/step - loss: 0.3531 - accuracy: 0.8856 - val_loss: 7.6001 - val_accuracy: 0.0606\n",
      "Epoch 6/50\n",
      "120/120 [==============================] - 28s 232ms/step - loss: 0.3200 - accuracy: 0.8903 - val_loss: 9.0700 - val_accuracy: 0.0364\n",
      "Epoch 7/50\n",
      "120/120 [==============================] - 28s 232ms/step - loss: 0.3360 - accuracy: 0.8908 - val_loss: 11.0515 - val_accuracy: 0.0364\n",
      "Epoch 8/50\n",
      "120/120 [==============================] - 28s 233ms/step - loss: 0.3475 - accuracy: 0.8822 - val_loss: 9.8372 - val_accuracy: 0.0364\n",
      "Epoch 9/50\n",
      "120/120 [==============================] - 28s 237ms/step - loss: 0.3183 - accuracy: 0.8985 - val_loss: 10.9611 - val_accuracy: 0.0667\n",
      "Epoch 10/50\n",
      "120/120 [==============================] - 28s 237ms/step - loss: 0.3343 - accuracy: 0.8916 - val_loss: 10.0863 - val_accuracy: 0.0364\n",
      "Epoch 11/50\n",
      "120/120 [==============================] - 26s 219ms/step - loss: 0.3134 - accuracy: 0.8979 - val_loss: 11.4734 - val_accuracy: 0.0364\n",
      "Epoch 12/50\n",
      "120/120 [==============================] - 28s 234ms/step - loss: 0.3038 - accuracy: 0.9003 - val_loss: 15.4230 - val_accuracy: 0.0364\n",
      "Epoch 13/50\n",
      "120/120 [==============================] - 29s 245ms/step - loss: 0.3113 - accuracy: 0.9013 - val_loss: 11.5346 - val_accuracy: 0.0364\n",
      "Epoch 14/50\n",
      "120/120 [==============================] - 28s 237ms/step - loss: 0.3068 - accuracy: 0.9000 - val_loss: 8.7680 - val_accuracy: 0.0485\n",
      "Epoch 15/50\n",
      "120/120 [==============================] - 28s 234ms/step - loss: 0.3079 - accuracy: 0.9000 - val_loss: 12.3650 - val_accuracy: 0.0364\n",
      "Epoch 16/50\n",
      "120/120 [==============================] - 29s 238ms/step - loss: 0.2806 - accuracy: 0.9100 - val_loss: 11.2277 - val_accuracy: 0.0364\n",
      "Epoch 17/50\n",
      "120/120 [==============================] - 29s 244ms/step - loss: 0.2524 - accuracy: 0.9192 - val_loss: 10.5140 - val_accuracy: 0.0364\n",
      "Epoch 18/50\n",
      "120/120 [==============================] - 28s 233ms/step - loss: 0.2644 - accuracy: 0.9113 - val_loss: 7.0549 - val_accuracy: 0.0424\n",
      "Epoch 19/50\n",
      "120/120 [==============================] - 28s 234ms/step - loss: 0.2820 - accuracy: 0.9137 - val_loss: 12.7402 - val_accuracy: 0.0364\n",
      "Epoch 20/50\n",
      "120/120 [==============================] - 28s 234ms/step - loss: 0.2942 - accuracy: 0.9100 - val_loss: 9.6010 - val_accuracy: 0.0545\n",
      "Epoch 21/50\n",
      "120/120 [==============================] - 30s 253ms/step - loss: 0.2773 - accuracy: 0.9066 - val_loss: 7.0389 - val_accuracy: 0.0788\n",
      "Epoch 22/50\n",
      "120/120 [==============================] - 28s 233ms/step - loss: 0.2672 - accuracy: 0.9152 - val_loss: 12.8748 - val_accuracy: 0.0364\n",
      "Epoch 23/50\n",
      "120/120 [==============================] - 28s 234ms/step - loss: 0.2467 - accuracy: 0.9200 - val_loss: 10.3620 - val_accuracy: 0.0545\n",
      "Epoch 24/50\n",
      "120/120 [==============================] - 28s 232ms/step - loss: 0.2609 - accuracy: 0.9189 - val_loss: 7.6207 - val_accuracy: 0.0364\n",
      "Epoch 25/50\n",
      "120/120 [==============================] - 28s 235ms/step - loss: 0.2518 - accuracy: 0.9168 - val_loss: 11.8808 - val_accuracy: 0.0485\n",
      "Epoch 26/50\n",
      "120/120 [==============================] - 28s 235ms/step - loss: 0.2644 - accuracy: 0.9129 - val_loss: 7.0942 - val_accuracy: 0.0424\n",
      "Epoch 27/50\n",
      "120/120 [==============================] - 28s 236ms/step - loss: 0.2593 - accuracy: 0.9171 - val_loss: 10.3450 - val_accuracy: 0.0364\n",
      "Epoch 28/50\n",
      "120/120 [==============================] - 28s 234ms/step - loss: 0.2386 - accuracy: 0.9268 - val_loss: 7.8948 - val_accuracy: 0.0545\n",
      "Epoch 29/50\n",
      "120/120 [==============================] - 28s 232ms/step - loss: 0.2409 - accuracy: 0.9215 - val_loss: 5.9438 - val_accuracy: 0.0606\n",
      "Epoch 30/50\n",
      "120/120 [==============================] - 28s 233ms/step - loss: 0.2317 - accuracy: 0.9263 - val_loss: 9.8986 - val_accuracy: 0.0364\n",
      "Epoch 31/50\n",
      "120/120 [==============================] - 28s 233ms/step - loss: 0.2210 - accuracy: 0.9268 - val_loss: 5.8657 - val_accuracy: 0.0848\n",
      "Epoch 32/50\n",
      "120/120 [==============================] - 29s 241ms/step - loss: 0.2484 - accuracy: 0.9176 - val_loss: 9.4193 - val_accuracy: 0.0364\n",
      "Epoch 33/50\n",
      "120/120 [==============================] - 28s 233ms/step - loss: 0.2265 - accuracy: 0.9315 - val_loss: 12.3756 - val_accuracy: 0.0364\n",
      "Epoch 34/50\n",
      "120/120 [==============================] - 28s 235ms/step - loss: 0.2456 - accuracy: 0.9200 - val_loss: 11.9762 - val_accuracy: 0.0364\n",
      "Epoch 35/50\n",
      "120/120 [==============================] - 25s 209ms/step - loss: 0.2267 - accuracy: 0.9276 - val_loss: 11.0327 - val_accuracy: 0.0727\n",
      "Epoch 36/50\n",
      "120/120 [==============================] - 29s 245ms/step - loss: 0.2245 - accuracy: 0.9297 - val_loss: 9.2977 - val_accuracy: 0.0364\n",
      "Epoch 37/50\n",
      "120/120 [==============================] - 27s 227ms/step - loss: 0.1953 - accuracy: 0.9370 - val_loss: 11.8542 - val_accuracy: 0.0424\n",
      "Epoch 38/50\n",
      "120/120 [==============================] - 25s 206ms/step - loss: 0.2084 - accuracy: 0.9357 - val_loss: 9.8795 - val_accuracy: 0.0667\n",
      "Epoch 39/50\n",
      "120/120 [==============================] - 25s 206ms/step - loss: 0.1894 - accuracy: 0.9368 - val_loss: 13.7697 - val_accuracy: 0.0424\n",
      "Epoch 40/50\n",
      "120/120 [==============================] - 25s 205ms/step - loss: 0.1936 - accuracy: 0.9355 - val_loss: 19.7408 - val_accuracy: 0.0364\n",
      "Epoch 41/50\n",
      "120/120 [==============================] - 25s 206ms/step - loss: 0.2085 - accuracy: 0.9305 - val_loss: 11.9816 - val_accuracy: 0.0424\n",
      "Epoch 42/50\n",
      "120/120 [==============================] - 25s 205ms/step - loss: 0.2115 - accuracy: 0.9299 - val_loss: 10.7393 - val_accuracy: 0.0364\n",
      "Epoch 43/50\n",
      "120/120 [==============================] - 25s 206ms/step - loss: 0.1971 - accuracy: 0.9341 - val_loss: 12.0274 - val_accuracy: 0.0364\n",
      "Epoch 44/50\n",
      "120/120 [==============================] - 25s 206ms/step - loss: 0.2110 - accuracy: 0.9315 - val_loss: 7.8615 - val_accuracy: 0.0606\n",
      "Epoch 45/50\n",
      "120/120 [==============================] - 26s 213ms/step - loss: 0.1855 - accuracy: 0.9368 - val_loss: 10.3824 - val_accuracy: 0.0364\n",
      "Epoch 46/50\n",
      "120/120 [==============================] - 26s 213ms/step - loss: 0.2118 - accuracy: 0.9370 - val_loss: 12.9197 - val_accuracy: 0.0788\n",
      "Epoch 47/50\n",
      "120/120 [==============================] - 25s 209ms/step - loss: 0.1955 - accuracy: 0.9352 - val_loss: 8.5032 - val_accuracy: 0.0727\n",
      "Epoch 48/50\n",
      "120/120 [==============================] - 26s 213ms/step - loss: 0.1955 - accuracy: 0.9323 - val_loss: 10.3468 - val_accuracy: 0.0545\n",
      "Epoch 49/50\n",
      "120/120 [==============================] - 26s 221ms/step - loss: 0.2022 - accuracy: 0.9357 - val_loss: 8.9178 - val_accuracy: 0.0606\n",
      "Epoch 50/50\n",
      "120/120 [==============================] - 25s 211ms/step - loss: 0.1914 - accuracy: 0.9355 - val_loss: 10.6553 - val_accuracy: 0.0424\n"
     ]
    },
    {
     "data": {
      "text/plain": [
       "<tensorflow.python.keras.callbacks.History at 0x229fbd80948>"
      ]
     },
     "execution_count": 30,
     "metadata": {},
     "output_type": "execute_result"
    }
   ],
   "source": [
    "model.fit(\n",
    "  train_data,\n",
    "  validation_data=val_data,\n",
    "  epochs=50\n",
    ")"
   ]
  },
  {
   "cell_type": "code",
   "execution_count": 31,
   "metadata": {},
   "outputs": [],
   "source": [
    "save_dir=\"F:/WorkSpace/Data/ASL/new_ASL_dataset/temp_model/tot_data_edge/II\""
   ]
  },
  {
   "cell_type": "code",
   "execution_count": 32,
   "metadata": {},
   "outputs": [
    {
     "name": "stdout",
     "output_type": "stream",
     "text": [
      "INFO:tensorflow:Assets written to: F:/WorkSpace/Data/ASL/new_ASL_dataset/temp_model/tot_data_edge/II\\assets\n"
     ]
    }
   ],
   "source": [
    "model.save(save_dir)"
   ]
  },
  {
   "cell_type": "code",
   "execution_count": null,
   "metadata": {},
   "outputs": [],
   "source": []
  }
 ],
 "metadata": {
  "kernelspec": {
   "display_name": "Python 3.7.7 64-bit",
   "language": "python",
   "name": "python37764bit6a6ed669a3f9466eab04645dc000e9a4"
  },
  "language_info": {
   "codemirror_mode": {
    "name": "ipython",
    "version": 3
   },
   "file_extension": ".py",
   "mimetype": "text/x-python",
   "name": "python",
   "nbconvert_exporter": "python",
   "pygments_lexer": "ipython3",
   "version": "3.7.7"
  }
 },
 "nbformat": 4,
 "nbformat_minor": 4
}
