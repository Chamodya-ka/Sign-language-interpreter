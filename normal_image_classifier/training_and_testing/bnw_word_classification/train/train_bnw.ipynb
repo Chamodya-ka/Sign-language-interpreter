{
 "cells": [
  {
   "cell_type": "code",
   "execution_count": 16,
   "metadata": {},
   "outputs": [],
   "source": [
    "from PIL import Image\n",
    "import numpy as np\n",
    "import os\n",
    "import cv2\n",
    "import glob,random\n",
    "from tensorflow.keras.preprocessing.image import img_to_array\n",
    "from tensorflow.keras.utils import to_categorical, plot_model\n",
    "from keras.models import Sequential\n",
    "from keras.layers import Conv2D,MaxPooling2D\n",
    "from keras.layers import Dense, Dropout, Activation, Flatten ,BatchNormalization\n",
    "from keras.preprocessing.image import ImageDataGenerator\n",
    "from keras import backend as K\n",
    "import keras"
   ]
  },
  {
   "cell_type": "code",
   "execution_count": 17,
   "metadata": {},
   "outputs": [],
   "source": [
    "data_dir  = \"F:/WorkSpace/Sign_Language_Testing/Words_testing/st_end/data/bnw\""
   ]
  },
  {
   "cell_type": "code",
   "execution_count": 18,
   "metadata": {},
   "outputs": [
    {
     "name": "stdout",
     "output_type": "stream",
     "text": [
      "['brother', 'hello', 'i', 'learn', 'learner_1', 'learner_2', 'name', 'no']\n"
     ]
    }
   ],
   "source": [
    "classes   =  os.listdir(data_dir)\n",
    "print(classes)"
   ]
  },
  {
   "cell_type": "code",
   "execution_count": 19,
   "metadata": {},
   "outputs": [],
   "source": [
    "count=0\n",
    "data=[]\n",
    "labels=[]"
   ]
  },
  {
   "cell_type": "code",
   "execution_count": 20,
   "metadata": {},
   "outputs": [],
   "source": [
    "image_files = [f for f in glob.glob(data_dir + \"/**/*\", recursive=True) if not os.path.isdir(f)]\n",
    "random.shuffle(image_files)"
   ]
  },
  {
   "cell_type": "code",
   "execution_count": 21,
   "metadata": {},
   "outputs": [],
   "source": [
    "for img in image_files:\n",
    "    count+=1\n",
    "    image = cv2.imread(img)\n",
    "    image = cv2.cvtColor(image,cv2.COLOR_BGR2GRAY)\n",
    "    image = img_to_array(image)\n",
    "    data.append(image)\n",
    "    labels.append(img.split(os.path.sep)[-2]) "
   ]
  },
  {
   "cell_type": "code",
   "execution_count": 22,
   "metadata": {},
   "outputs": [
    {
     "name": "stdout",
     "output_type": "stream",
     "text": [
      "['brother', 'no', 'i', 'learner_2', 'learner_1', 'name', 'no', 'learn', 'name', 'no', 'name', 'name', 'learner_2', 'no', 'name', 'learner_2', 'learn', 'learn', 'learner_1', 'learner_2', 'name', 'no', 'name', 'learner_2', 'no', 'learn', 'no', 'no', 'brother', 'brother', 'name', 'name', 'learner_1', 'i', 'learner_1', 'learner_1', 'learner_2', 'name', 'i', 'name', 'no', 'learner_2', 'name', 'no', 'name', 'learn', 'name', 'i', 'brother', 'no', 'learn', 'learn', 'learn', 'no', 'i', 'name', 'learner_2', 'learner_1', 'learner_1', 'learn', 'no', 'learner_1', 'learner_2', 'name', 'no', 'name', 'learner_1', 'learner_2', 'learner_1', 'name', 'name', 'learner_1', 'no', 'learner_1', 'learn', 'learn', 'name', 'learn', 'learn', 'name', 'learn', 'learner_2', 'learner_1', 'learner_2', 'learn', 'learner_2', 'i', 'hello', 'name', 'learner_2', 'i', 'name', 'learner_2', 'hello', 'no', 'learn', 'i', 'learner_2', 'i', 'no', 'learner_2', 'i', 'brother', 'name', 'no', 'learner_1', 'name', 'learner_2', 'name', 'brother', 'name', 'i', 'i', 'learn', 'name', 'i', 'no', 'learner_2', 'learn', 'name', 'brother', 'name', 'name', 'learn', 'learn', 'no', 'name', 'name', 'hello', 'no', 'learn', 'learn', 'learn', 'name', 'learner_1', 'i', 'name', 'hello', 'name', 'learner_2', 'i', 'brother', 'learn', 'name', 'brother', 'name', 'learner_2', 'name', 'no', 'learner_2', 'learner_1', 'no', 'name', 'name', 'learn', 'learn', 'learner_1', 'learner_1', 'hello', 'learner_2', 'i', 'learn', 'learn', 'learner_2', 'learner_2', 'brother', 'learner_2', 'name', 'learner_2', 'i', 'learner_1', 'learner_2', 'no', 'name', 'name', 'name', 'learn', 'learner_2', 'learn', 'no', 'i', 'learner_1', 'name', 'i', 'learn', 'learn', 'name', 'learner_2', 'name', 'name', 'hello', 'i', 'brother', 'brother', 'learn', 'i', 'name', 'learn', 'learner_1', 'name', 'learn', 'learner_2', 'hello', 'learner_2', 'learner_1', 'name', 'name', 'name', 'learner_1', 'i', 'learner_2', 'no', 'name', 'i', 'name', 'no', 'learner_1', 'name', 'name', 'no', 'learner_1', 'learner_1', 'name', 'name', 'learner_2', 'i', 'brother', 'brother', 'learner_2', 'no', 'learner_1', 'no', 'name', 'learner_1', 'name', 'i', 'no', 'name', 'i', 'learner_2', 'brother', 'learner_1', 'brother', 'name', 'no', 'learner_1', 'learn', 'learner_2', 'hello', 'i', 'no', 'no', 'learn', 'learner_1', 'learn', 'i', 'brother', 'no', 'learn', 'hello', 'i', 'learn', 'learner_1', 'no', 'no', 'brother', 'name', 'name', 'no', 'name', 'learner_2', 'hello', 'learner_1', 'i', 'name', 'learner_2', 'learner_2', 'learn', 'i', 'learner_2', 'learner_1', 'i', 'learner_2', 'name', 'learner_1', 'learner_2', 'learner_1', 'name', 'name', 'brother', 'no', 'name', 'no', 'learner_2', 'no', 'name', 'learn', 'learn', 'learner_2', 'brother', 'i', 'learn', 'no', 'name', 'name', 'i', 'learn', 'no', 'learner_1', 'name', 'learner_1', 'i', 'name', 'hello', 'learner_2', 'hello', 'name', 'no', 'hello', 'no', 'learner_2', 'learner_1', 'name', 'hello', 'no', 'learn', 'name', 'name', 'hello', 'learner_2', 'learn', 'learn', 'name', 'no', 'no', 'i', 'learn', 'learner_2', 'learner_2', 'i', 'learner_1', 'name', 'no', 'name', 'i', 'brother', 'no', 'no', 'learner_1', 'name', 'i', 'i', 'brother', 'no', 'learner_2', 'learn', 'learner_2', 'name', 'name', 'learner_2', 'learn', 'i', 'hello', 'name', 'learn', 'i', 'learn', 'name', 'name', 'learner_2', 'learner_2', 'no', 'name', 'i', 'no', 'learner_2', 'name', 'name', 'name', 'hello', 'no', 'no', 'i', 'hello', 'name', 'learner_2', 'hello', 'learn', 'name', 'i', 'name', 'hello', 'learner_2', 'name', 'no', 'no', 'no', 'learner_1', 'name', 'learner_2', 'name', 'learn', 'no', 'hello', 'no', 'hello', 'no', 'brother', 'learner_2', 'i', 'learner_2', 'i', 'learn', 'learner_2', 'learner_2', 'learner_1', 'no', 'learner_1', 'learner_2', 'i', 'no', 'hello', 'no', 'name', 'name', 'no', 'learner_2', 'name', 'hello', 'brother', 'i', 'learn', 'name', 'hello', 'name', 'name', 'learn', 'i', 'name', 'learner_1', 'i', 'learn', 'no', 'brother', 'no', 'name', 'name', 'name', 'no', 'learner_1', 'no', 'name', 'name', 'name', 'brother', 'name', 'learner_1', 'learner_2', 'name', 'name', 'no', 'learn', 'name', 'learner_1', 'learner_2', 'learn', 'learn', 'name', 'brother', 'hello', 'learner_2', 'name', 'learn', 'no', 'learn', 'learner_2', 'no', 'no', 'learner_1', 'i', 'learner_2', 'name', 'no', 'brother', 'name', 'i', 'no', 'brother', 'learner_2', 'learner_1', 'brother', 'no', 'learner_2', 'name', 'name', 'learn', 'no', 'brother', 'no', 'no', 'name', 'i', 'learner_1', 'i', 'hello', 'learner_2', 'i', 'no', 'name', 'name', 'hello', 'name', 'no', 'no', 'learner_2', 'learner_2', 'name', 'name', 'name', 'name', 'no', 'no', 'learner_2', 'name', 'brother', 'learner_2', 'learner_1', 'no', 'no', 'name', 'no', 'i', 'learn', 'learn', 'brother', 'name', 'name', 'no', 'name', 'learner_1', 'i', 'learner_2', 'i', 'learner_1', 'learner_2', 'learner_1', 'no', 'name', 'name', 'hello', 'brother', 'name', 'hello', 'i', 'name', 'learner_2', 'name', 'learner_2', 'i', 'learner_1', 'learn', 'name', 'i', 'name', 'learner_1', 'brother', 'i', 'name', 'learner_2', 'learn', 'no', 'hello', 'brother', 'learner_2', 'hello', 'name', 'no', 'learner_2', 'name', 'learner_1', 'name', 'learner_2', 'learner_1', 'brother', 'learn', 'brother', 'i', 'learn', 'name', 'i', 'brother', 'learner_2', 'learner_2', 'no', 'learner_1', 'no', 'no', 'name', 'learner_2', 'hello', 'name', 'learner_2', 'learner_1', 'no', 'name', 'hello', 'no', 'learner_2', 'learn', 'hello', 'name', 'no', 'learner_1', 'learn', 'learner_2', 'name', 'learner_2', 'learner_1', 'name', 'learn', 'no', 'name', 'no', 'learner_1', 'name', 'name', 'learner_2', 'learner_1', 'hello', 'learner_2', 'learn', 'no', 'learn', 'i', 'i', 'i', 'i', 'no', 'hello', 'learn', 'no', 'no', 'learn', 'name', 'learner_1', 'name', 'name', 'i', 'no', 'learner_2', 'learner_2', 'hello', 'learner_2', 'no', 'name', 'no', 'learner_1', 'no', 'learner_2', 'hello', 'name', 'name', 'learn', 'learner_1', 'name', 'name', 'learn', 'i', 'no', 'name', 'name', 'i', 'no', 'learner_2', 'learner_1', 'learn', 'name', 'name', 'no', 'learn', 'no', 'learner_2', 'learner_1', 'hello', 'name', 'learner_2', 'name', 'learner_2', 'name', 'brother', 'no', 'brother', 'name', 'hello', 'name', 'learner_2', 'no', 'no', 'hello', 'name', 'no', 'learner_1', 'i', 'name', 'i', 'no', 'name', 'name', 'name', 'i', 'name', 'learner_2', 'no', 'hello', 'name', 'learner_2', 'learner_1', 'learn', 'name', 'learn', 'brother', 'no', 'i', 'learner_1', 'learn', 'name', 'learner_1', 'learner_2', 'learner_1', 'learner_1', 'name', 'learner_1', 'learn', 'i', 'brother', 'i', 'i', 'brother', 'hello', 'learner_2', 'name', 'learn', 'name', 'no', 'name', 'brother', 'hello', 'name', 'i', 'name', 'learner_2', 'name', 'i', 'i', 'i', 'name', 'brother', 'learner_2', 'no', 'brother', 'no', 'no', 'learner_2', 'no', 'learn', 'learner_2', 'no', 'learner_1', 'i', 'name', 'learner_2', 'brother', 'name', 'learner_2', 'no', 'name', 'name', 'learner_2', 'name', 'no', 'learn', 'no', 'i', 'name', 'learn', 'learn', 'name', 'name', 'no', 'name', 'learner_2', 'name', 'name', 'name', 'i', 'no', 'learner_2', 'name', 'brother', 'learner_1', 'learn', 'learner_1', 'learner_2', 'name', 'learn', 'learner_2', 'name', 'brother', 'learner_1', 'hello', 'learner_1', 'name', 'brother', 'no', 'i', 'no', 'learner_2', 'brother', 'learn', 'brother', 'name', 'no', 'learn', 'no', 'name', 'no', 'no', 'i', 'no', 'name', 'i', 'no', 'name', 'learner_1', 'learner_2', 'learner_1', 'learner_2', 'no', 'learner_2', 'no', 'name', 'i', 'brother', 'i', 'learner_2', 'name', 'learner_1', 'i', 'no', 'no', 'no', 'name', 'name', 'learn', 'learn', 'name', 'learner_2', 'brother', 'no', 'no', 'name', 'name', 'learner_1', 'no', 'learn', 'no', 'learn', 'i', 'name', 'no', 'name', 'learn', 'name', 'i', 'no', 'learner_1', 'hello', 'name', 'no', 'name', 'learner_2', 'learner_1', 'learn', 'name', 'learn', 'learner_2', 'hello', 'learn', 'i', 'name', 'name', 'learner_1', 'i', 'no', 'learn', 'i', 'i', 'name', 'hello', 'name', 'no', 'name', 'name', 'name', 'learner_2', 'name', 'no', 'no', 'name', 'no', 'no', 'name', 'name', 'learn', 'name', 'i', 'learner_2', 'brother', 'name', 'brother', 'name', 'learn', 'learner_1', 'name', 'name', 'learner_2', 'no', 'no', 'learn', 'no', 'learner_2', 'no', 'name', 'i', 'learner_2', 'learner_2', 'name', 'no', 'i', 'name', 'no', 'i', 'brother', 'no', 'learner_2', 'i', 'learner_1', 'no', 'name', 'no', 'learn', 'learn', 'name', 'learner_1', 'name', 'learner_1', 'name', 'name', 'no', 'learner_2', 'name', 'learner_2', 'learner_1', 'learn', 'name', 'no', 'learn', 'brother', 'learner_2', 'i', 'name', 'learn', 'name', 'i', 'learner_2', 'learner_2', 'hello', 'learn', 'name', 'no', 'no', 'i', 'hello', 'name', 'learner_2', 'name', 'no', 'name', 'no', 'name', 'no', 'name', 'i', 'learner_2', 'i', 'learn', 'learn', 'name', 'learner_1', 'learn', 'learn', 'brother', 'name', 'learner_2', 'learner_2', 'name', 'no', 'name', 'name', 'no', 'i', 'learner_2', 'learner_1', 'name', 'learner_1', 'name', 'name', 'i', 'learner_2', 'learn', 'name', 'no', 'name', 'learner_2', 'learner_2', 'i', 'learner_2', 'learner_2', 'no', 'learn', 'learner_1', 'brother', 'name', 'i', 'i', 'i', 'i', 'i', 'learner_1', 'learner_2', 'learner_1', 'learn', 'learn', 'no', 'no', 'name', 'hello', 'hello', 'learn', 'no', 'no', 'name', 'no', 'name', 'learner_1', 'learner_2', 'i', 'i', 'learner_2', 'name', 'name', 'name', 'i', 'learn', 'learner_2', 'learner_2', 'learner_2', 'no', 'name', 'learner_1', 'learner_2', 'i', 'learner_2', 'learner_1', 'learner_2', 'learner_1', 'brother', 'name', 'no', 'name', 'no', 'learn', 'name', 'name', 'learner_2', 'hello', 'brother', 'hello', 'name', 'learner_2', 'learn', 'i', 'learn', 'i', 'learner_1', 'learn', 'learn', 'i', 'learner_2', 'learner_2', 'hello', 'learner_2', 'brother', 'i', 'i', 'brother', 'learn', 'learner_1', 'learn', 'brother', 'no', 'hello', 'learner_1', 'learner_2', 'name', 'learn', 'learner_2', 'name', 'brother', 'no', 'brother', 'no', 'hello', 'no', 'hello', 'no', 'learner_1', 'i', 'brother', 'i', 'i', 'name', 'learn', 'hello', 'no', 'learner_2', 'no', 'name', 'learner_1', 'no', 'learner_2', 'learn', 'learn', 'learner_2', 'learner_2', 'learner_1', 'name', 'name', 'learner_2', 'hello', 'i', 'learner_2', 'brother', 'brother', 'learner_1', 'learner_1', 'learner_1', 'learn', 'name', 'no', 'i', 'name', 'learner_1', 'learner_1', 'i', 'name', 'i', 'learner_2', 'learn', 'no', 'learner_2', 'name', 'name', 'name', 'learner_2', 'learner_1', 'name', 'name', 'learner_1', 'hello', 'name', 'name', 'no', 'learn', 'name', 'name', 'learner_2', 'name', 'i', 'name', 'learner_2', 'name', 'no', 'hello', 'name', 'no', 'no', 'brother', 'no', 'name', 'i', 'name', 'brother', 'no', 'name', 'name', 'no', 'name', 'i', 'name', 'no', 'no', 'brother', 'brother', 'no', 'learner_1', 'name', 'name', 'learner_1', 'brother', 'no', 'name', 'hello', 'name', 'no', 'name', 'learner_1', 'name', 'learn', 'learner_2', 'i', 'name', 'i', 'i', 'learner_1', 'i', 'name', 'learner_2', 'name', 'name', 'learner_2', 'name', 'no', 'i', 'learner_1', 'i', 'learner_1', 'name', 'learner_2', 'name', 'i', 'name', 'name', 'no', 'name', 'name', 'learn', 'i', 'learn', 'i', 'name', 'learner_2', 'hello', 'no', 'brother', 'i', 'name', 'learner_2', 'learner_1', 'name', 'name', 'i', 'no', 'learner_2', 'brother', 'learner_1', 'learn', 'learner_2', 'brother', 'no', 'no', 'no', 'i', 'i', 'name', 'learner_2', 'name', 'no', 'name', 'no', 'no', 'hello', 'learner_1', 'no', 'i', 'learner_2', 'learn', 'name', 'learner_2', 'learn', 'name', 'learner_1', 'i', 'no', 'learner_2', 'i', 'i', 'learner_2', 'name', 'learner_2', 'name', 'name', 'learn', 'name', 'name', 'name', 'learner_2', 'brother', 'name', 'i', 'hello', 'learn', 'learn', 'no', 'name', 'no', 'learner_2', 'learner_1', 'no', 'learn', 'name', 'no', 'name', 'no', 'name', 'no', 'name', 'learn', 'no', 'name', 'hello', 'no', 'learner_2', 'i', 'name', 'name', 'learner_2', 'learner_2', 'no', 'learner_2', 'brother', 'no', 'learner_2', 'learner_2', 'learner_1', 'name', 'no', 'name', 'learn', 'no', 'learner_2', 'name', 'name', 'learner_2', 'learn', 'learner_2', 'name', 'no', 'learner_2', 'no', 'hello', 'name', 'name', 'name', 'learn', 'name', 'learn', 'name', 'name', 'brother', 'name', 'name', 'name', 'name', 'brother', 'name', 'no', 'learner_2', 'name', 'name', 'i', 'hello', 'i', 'brother', 'learner_1', 'learner_2', 'name', 'learner_2', 'i', 'hello', 'name', 'name', 'name', 'hello', 'learner_1', 'name', 'name', 'i', 'learner_2', 'learn', 'brother', 'learner_1', 'name', 'learn', 'learner_2', 'no', 'name', 'learn', 'no', 'no', 'name', 'no', 'hello', 'i', 'i', 'learn', 'learn', 'hello', 'learner_1', 'brother', 'name', 'no', 'learner_2', 'no', 'learn', 'learner_2', 'no', 'i', 'i', 'no', 'i', 'hello', 'learner_2', 'i', 'learn', 'learner_1', 'learn', 'learner_1', 'name', 'no', 'learn', 'name', 'no', 'learner_1', 'learn', 'i', 'learn', 'i', 'learner_2', 'learn', 'i', 'no', 'name', 'brother', 'no', 'name', 'learner_1', 'no', 'learner_1', 'learner_1', 'no', 'learner_2', 'brother', 'learn', 'no', 'no', 'no', 'learn', 'learner_1', 'i', 'learn', 'name', 'no', 'hello', 'learner_1', 'no', 'name', 'learner_2', 'learner_2', 'no', 'name', 'no', 'no', 'learner_1', 'name', 'learner_2', 'learn', 'learner_2', 'i', 'no', 'name', 'brother', 'name', 'learner_2', 'learn', 'name', 'no', 'name', 'learn', 'name', 'name', 'name', 'no', 'learner_2', 'learner_1', 'learn']\n"
     ]
    }
   ],
   "source": [
    "print(len(labels))"
   ]
  },
  {
   "cell_type": "code",
   "execution_count": 23,
   "metadata": {},
   "outputs": [],
   "source": [
    "from sklearn.preprocessing import LabelEncoder"
   ]
  },
  {
   "cell_type": "code",
   "execution_count": 24,
   "metadata": {},
   "outputs": [
    {
     "name": "stdout",
     "output_type": "stream",
     "text": [
      "[[1. 0. 0. ... 0. 0. 0.]\n",
      " [0. 0. 0. ... 0. 0. 1.]\n",
      " [0. 0. 1. ... 0. 0. 0.]\n",
      " ...\n",
      " [0. 0. 0. ... 1. 0. 0.]\n",
      " [0. 0. 0. ... 0. 0. 0.]\n",
      " [0. 0. 0. ... 0. 0. 0.]]\n"
     ]
    }
   ],
   "source": [
    "data = np.array(data, dtype=\"float\")/255.\n",
    "\n",
    "data=data.reshape(count,240,240,1)\n",
    "le = LabelEncoder()\n",
    "labels = le.fit_transform(labels)\n",
    "labels = to_categorical(labels, 8)\n",
    "print(len(labels))"
   ]
  },
  {
   "cell_type": "code",
   "execution_count": 25,
   "metadata": {},
   "outputs": [
    {
     "name": "stdout",
     "output_type": "stream",
     "text": [
      "(1516, 240, 240, 1)\n"
     ]
    }
   ],
   "source": [
    "print(data.shape)"
   ]
  },
  {
   "cell_type": "code",
   "execution_count": 26,
   "metadata": {},
   "outputs": [
    {
     "name": "stdout",
     "output_type": "stream",
     "text": [
      "1516 1516\n"
     ]
    }
   ],
   "source": [
    "print(len(data),len(labels))"
   ]
  },
  {
   "cell_type": "code",
   "execution_count": 27,
   "metadata": {},
   "outputs": [],
   "source": [
    "from sklearn.model_selection import train_test_split\n",
    "X_train, X_test, y_train, y_test = train_test_split(data, labels, test_size=0.10, random_state=40)"
   ]
  },
  {
   "cell_type": "code",
   "execution_count": 28,
   "metadata": {},
   "outputs": [],
   "source": [
    "aug = ImageDataGenerator(\n",
    "    width_shift_range=(0.2),\n",
    "    height_shift_range=(0.2),\n",
    "    rotation_range=(15),\n",
    "    horizontal_flip=False,\n",
    "    zoom_range=(0.9,1.3),\n",
    "    fill_mode=\"nearest\")"
   ]
  },
  {
   "cell_type": "code",
   "execution_count": 29,
   "metadata": {},
   "outputs": [],
   "source": [
    "from keras.models import Sequential\n",
    "from keras.layers.convolutional import Conv2D, MaxPooling2D \n",
    "from keras.layers import Dense, Flatten ,GlobalMaxPool2D"
   ]
  },
  {
   "cell_type": "code",
   "execution_count": 38,
   "metadata": {},
   "outputs": [],
   "source": [
    "model = Sequential()\n",
    "\n",
    "model.add(Conv2D(32, (3, 3), activation='relu', input_shape=(240, 240, 1),padding=\"same\")) \n",
    "model.add(MaxPooling2D((2, 2)))\n",
    "\n",
    "model.add(Conv2D(64, (3, 3),activation='relu'))\n",
    "model.add(MaxPooling2D((2, 2)))\n",
    "\n",
    "model.add(Conv2D(64, (3, 3),activation='relu'))\n",
    "model.add(MaxPooling2D((2, 2)))\n",
    "\n",
    "model.add(Conv2D(128, (3 ,3), activation='relu') )\n",
    "model.add(MaxPooling2D((2, 2)))\n",
    "\n",
    "model.add(Conv2D(128, (3 ,3), activation='relu') )\n",
    "model.add(MaxPooling2D((2, 2)))\n",
    "\n",
    "\n",
    "model.add(Flatten())\n",
    "model.add(Dense(256, activation='relu'))\n",
    "model.add(Dropout(0.5))\n",
    "model.add(Dense(64,activation='relu'))\n",
    "model.add(Dropout(0.5))\n",
    "model.add(Dense(8, activation='softmax'))"
   ]
  },
  {
   "cell_type": "code",
   "execution_count": 39,
   "metadata": {},
   "outputs": [],
   "source": [
    "model.compile(optimizer='adam', loss='categorical_crossentropy', metrics=['accuracy'])"
   ]
  },
  {
   "cell_type": "code",
   "execution_count": 47,
   "metadata": {},
   "outputs": [
    {
     "name": "stdout",
     "output_type": "stream",
     "text": [
      "Epoch 1/20\n",
      " 2/43 [>.............................] - ETA: 3s - loss: 0.1819 - accuracy: 0.9531WARNING:tensorflow:Callbacks method `on_train_batch_end` is slow compared to the batch time (batch time: 0.0410s vs `on_train_batch_end` time: 0.0680s). Check your callbacks.\n",
      "43/43 [==============================] - 5s 127ms/step - loss: 0.1586 - accuracy: 0.9575 - val_loss: 0.1138 - val_accuracy: 0.9737\n",
      "Epoch 2/20\n",
      "43/43 [==============================] - 6s 128ms/step - loss: 0.1350 - accuracy: 0.9567 - val_loss: 0.1132 - val_accuracy: 0.9474\n",
      "Epoch 3/20\n",
      "43/43 [==============================] - 6s 139ms/step - loss: 0.1171 - accuracy: 0.9648 - val_loss: 0.1067 - val_accuracy: 0.9671\n",
      "Epoch 4/20\n",
      "43/43 [==============================] - 6s 133ms/step - loss: 0.1572 - accuracy: 0.9545 - val_loss: 0.1572 - val_accuracy: 0.9408\n",
      "Epoch 5/20\n",
      "43/43 [==============================] - 6s 133ms/step - loss: 0.1524 - accuracy: 0.9582 - val_loss: 0.0725 - val_accuracy: 0.9868\n",
      "Epoch 6/20\n",
      "43/43 [==============================] - 6s 133ms/step - loss: 0.1076 - accuracy: 0.9677 - val_loss: 0.1367 - val_accuracy: 0.9539\n",
      "Epoch 7/20\n",
      "43/43 [==============================] - 6s 137ms/step - loss: 0.1092 - accuracy: 0.9677 - val_loss: 0.0519 - val_accuracy: 0.9803\n",
      "Epoch 8/20\n",
      "43/43 [==============================] - 6s 136ms/step - loss: 0.1111 - accuracy: 0.9641 - val_loss: 0.0881 - val_accuracy: 0.9605\n",
      "Epoch 9/20\n",
      "43/43 [==============================] - 6s 135ms/step - loss: 0.1540 - accuracy: 0.9538 - val_loss: 0.1033 - val_accuracy: 0.9671\n",
      "Epoch 10/20\n",
      "43/43 [==============================] - 6s 138ms/step - loss: 0.1442 - accuracy: 0.9553 - val_loss: 0.0777 - val_accuracy: 0.9803\n",
      "Epoch 11/20\n",
      "43/43 [==============================] - 6s 140ms/step - loss: 0.0998 - accuracy: 0.9714 - val_loss: 0.0237 - val_accuracy: 0.9868\n",
      "Epoch 12/20\n",
      "43/43 [==============================] - 6s 139ms/step - loss: 0.1263 - accuracy: 0.9619 - val_loss: 0.1589 - val_accuracy: 0.9211\n",
      "Epoch 13/20\n",
      "43/43 [==============================] - 6s 143ms/step - loss: 0.1211 - accuracy: 0.9619 - val_loss: 0.0938 - val_accuracy: 0.9737\n",
      "Epoch 14/20\n",
      "43/43 [==============================] - 6s 140ms/step - loss: 0.1133 - accuracy: 0.9670 - val_loss: 0.0936 - val_accuracy: 0.9671\n",
      "Epoch 15/20\n",
      "43/43 [==============================] - 6s 142ms/step - loss: 0.1365 - accuracy: 0.9589 - val_loss: 0.0893 - val_accuracy: 0.9539\n",
      "Epoch 16/20\n",
      "43/43 [==============================] - 6s 144ms/step - loss: 0.1129 - accuracy: 0.9692 - val_loss: 0.0682 - val_accuracy: 0.9671\n",
      "Epoch 17/20\n",
      "43/43 [==============================] - 6s 143ms/step - loss: 0.1229 - accuracy: 0.9567 - val_loss: 0.1848 - val_accuracy: 0.9474\n",
      "Epoch 18/20\n",
      "43/43 [==============================] - 6s 146ms/step - loss: 0.1214 - accuracy: 0.9685 - val_loss: 0.0622 - val_accuracy: 0.9803\n",
      "Epoch 19/20\n",
      "43/43 [==============================] - 6s 145ms/step - loss: 0.0968 - accuracy: 0.9670 - val_loss: 0.0596 - val_accuracy: 0.9671\n",
      "Epoch 20/20\n",
      "43/43 [==============================] - 6s 145ms/step - loss: 0.0875 - accuracy: 0.9751 - val_loss: 0.0964 - val_accuracy: 0.9605\n"
     ]
    },
    {
     "data": {
      "text/plain": [
       "<tensorflow.python.keras.callbacks.History at 0x2b0441e3808>"
      ]
     },
     "execution_count": 47,
     "metadata": {},
     "output_type": "execute_result"
    }
   ],
   "source": [
    "model.fit(x=aug.flow(X_train, y_train,batch_size=32),batch_size=32, epochs=20, validation_data=aug.flow(X_test, y_test))"
   ]
  },
  {
   "cell_type": "code",
   "execution_count": 48,
   "metadata": {},
   "outputs": [
    {
     "name": "stdout",
     "output_type": "stream",
     "text": [
      "INFO:tensorflow:Assets written to: F:/WorkSpace/Sign_Language_Testing/Words_testing/st_end/models/edge/sobel_bnw_3_II\\assets\n"
     ]
    }
   ],
   "source": [
    "save_dir = \"F:/WorkSpace/Sign_Language_Testing/Words_testing/st_end/models/edge/sobel_bnw_3_II\"\n",
    "model.save(save_dir)"
   ]
  },
  {
   "cell_type": "code",
   "execution_count": null,
   "metadata": {},
   "outputs": [],
   "source": []
  }
 ],
 "metadata": {
  "kernelspec": {
   "display_name": "Python 3.7.7 64-bit",
   "language": "python",
   "name": "python37764bit6a6ed669a3f9466eab04645dc000e9a4"
  },
  "language_info": {
   "codemirror_mode": {
    "name": "ipython",
    "version": 3
   },
   "file_extension": ".py",
   "mimetype": "text/x-python",
   "name": "python",
   "nbconvert_exporter": "python",
   "pygments_lexer": "ipython3",
   "version": "3.7.7"
  }
 },
 "nbformat": 4,
 "nbformat_minor": 4
}
